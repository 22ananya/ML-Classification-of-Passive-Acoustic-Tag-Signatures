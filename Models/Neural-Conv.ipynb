{
 "cells": [
  {
   "cell_type": "code",
   "execution_count": 2,
   "metadata": {},
   "outputs": [],
   "source": [
    "import numpy as np\n",
    "import scipy\n",
    "import matplotlib.pyplot as plt\n",
    "from scipy.io import loadmat\n",
    "import torch\n",
    "from torch.utils.data import TensorDataset, DataLoader\n",
    "import seaborn as sns\n",
    "import pandas as pd\n",
    "%matplotlib inline  "
   ]
  },
  {
   "cell_type": "code",
   "execution_count": 3,
   "metadata": {},
   "outputs": [],
   "source": [
    "# Load data\n",
    "X_train = np.load(\"../Data/numpy/matlab.mat_x_train.npy\")\n",
    "X_test = np.load(\"../Data/numpy/matlab.mat_x_test.npy\")\n",
    "Y_train = np.load(\"../Data/numpy/matlab.mat_y_train.npy\")\n",
    "Y_test = np.load(\"../Data/numpy/matlab.mat_y_test.npy\")\n",
    "\n",
    "device = torch.device('cuda:0' if torch.cuda.is_available() else 'cpu')\n",
    "\n",
    "# Setup data for Torch use\n",
    "tensor_x = torch.Tensor(X_train)\n",
    "tensor_y = torch.Tensor(Y_train).type(torch.LongTensor)\n",
    "train_data = TensorDataset(tensor_x,tensor_y)\n",
    "train_loader = DataLoader(train_data)\n",
    "\n",
    "tensor_x = torch.Tensor(X_test)\n",
    "tensor_y = torch.Tensor(Y_test).type(torch.LongTensor)\n",
    "test_data = TensorDataset(tensor_x,tensor_y)\n",
    "test_loader = DataLoader(test_data)"
   ]
  },
  {
   "cell_type": "code",
   "execution_count": 84,
   "metadata": {},
   "outputs": [],
   "source": [
    "class Model(torch.nn.Module):\n",
    "    def __init__(self):\n",
    "        super(Model, self).__init__()\n",
    "        self.conv1 = torch.nn.Conv1d(1, 1, stride=5, kernel_size=20)\n",
    "        self.dropout = torch.nn.Dropout(0.1)\n",
    "        self.conv2 = torch.nn.Conv1d(1, 1, stride=1, kernel_size=5)\n",
    "        self.linear1 = torch.nn.Linear(1993, 50)\n",
    "        self.linear2 = torch.nn.Linear(50, 9)\n",
    "        self.relu = torch.nn.ReLU()\n",
    "        \n",
    "    def forward(self, x):\n",
    "        x = self.conv1(x)\n",
    "        # x = self.dropout(x)\n",
    "        x = self.relu(x)\n",
    "        x = self.conv2(x)\n",
    "        # x = self.linear2(x)\n",
    "        x = self.relu(x)\n",
    "        x = self.linear1(x)\n",
    "        x = self.relu(x)\n",
    "        x = self.linear2(x)\n",
    "        x = self.relu(x)\n",
    "        return x"
   ]
  },
  {
   "cell_type": "code",
   "execution_count": 85,
   "metadata": {},
   "outputs": [],
   "source": [
    "y_loss = {\"train\": [], \"test\": []}\n",
    "y_acc = {\"train\": [], \"test\": []}\n",
    "\n",
    "model = Model()\n",
    "def train_loop(dataloader, model, loss_fn, optimizer):\n",
    "    running_loss = 0\n",
    "    correct = 0\n",
    "    num_batches = len(dataloader)\n",
    "    for batch, (X, y) in enumerate(dataloader):\n",
    "        # Compute prediction and loss\n",
    "        # print(X)\n",
    "        pred = model(X)\n",
    "        loss = loss_fn(pred, y)\n",
    "        running_loss += loss.item() * len(X)\n",
    "        correct += (pred.argmax(1) == y).type(torch.float).sum().item()\n",
    "\n",
    "        # Backpropagation\n",
    "        optimizer.zero_grad()\n",
    "        loss.backward()\n",
    "        optimizer.step()\n",
    "\n",
    "    y_loss[\"train\"].append(running_loss / num_batches)\n",
    "    y_acc[\"train\"].append(correct / num_batches)\n",
    "\n",
    "\n",
    "\n",
    "def test_loop(dataloader, model, loss_fn):\n",
    "    size = len(dataloader.dataset)\n",
    "    num_batches = len(dataloader)\n",
    "    test_loss, correct = 0, 0\n",
    "    with torch.no_grad():\n",
    "        for X, y in dataloader:\n",
    "            pred = model(X)\n",
    "            test_loss += loss_fn(pred, y).item()\n",
    "            correct += (pred.argmax(1) == y).type(torch.float).sum().item()\n",
    "\n",
    "    test_loss /= num_batches\n",
    "    correct /= size\n",
    "    y_loss[\"test\"].append(test_loss)\n",
    "    y_acc[\"test\"].append(correct)\n",
    "    print(f\"Test Error: \\n Accuracy: {(100*correct):>0.1f}%, Avg loss: {test_loss:>8f} \\n\")"
   ]
  },
  {
   "cell_type": "code",
   "execution_count": 87,
   "metadata": {},
   "outputs": [
    {
     "name": "stdout",
     "output_type": "stream",
     "text": [
      "Epoch 1\n",
      "-------------------------------\n",
      "Test Error: \n",
      " Accuracy: 19.0%, Avg loss: 2.192804 \n",
      "\n",
      "Epoch 2\n",
      "-------------------------------\n",
      "Test Error: \n",
      " Accuracy: 27.3%, Avg loss: 2.183302 \n",
      "\n",
      "Epoch 3\n",
      "-------------------------------\n",
      "Test Error: \n",
      " Accuracy: 31.3%, Avg loss: 2.148770 \n",
      "\n",
      "Epoch 4\n",
      "-------------------------------\n",
      "Test Error: \n",
      " Accuracy: 53.3%, Avg loss: 1.694314 \n",
      "\n",
      "Epoch 5\n",
      "-------------------------------\n",
      "Test Error: \n",
      " Accuracy: 57.3%, Avg loss: 1.113169 \n",
      "\n",
      "Epoch 6\n",
      "-------------------------------\n",
      "Test Error: \n",
      " Accuracy: 57.3%, Avg loss: 1.014821 \n",
      "\n",
      "Epoch 7\n",
      "-------------------------------\n",
      "Test Error: \n",
      " Accuracy: 57.3%, Avg loss: 0.991448 \n",
      "\n",
      "Epoch 8\n",
      "-------------------------------\n",
      "Test Error: \n",
      " Accuracy: 57.3%, Avg loss: 0.985098 \n",
      "\n",
      "Epoch 9\n",
      "-------------------------------\n",
      "Test Error: \n",
      " Accuracy: 57.3%, Avg loss: 0.978447 \n",
      "\n",
      "Epoch 10\n",
      "-------------------------------\n",
      "Test Error: \n",
      " Accuracy: 57.3%, Avg loss: 0.969451 \n",
      "\n",
      "Done!\n"
     ]
    }
   ],
   "source": [
    "learning_rate = 1e-3\n",
    "# batch_size = 32\n",
    "epochs = 10\n",
    "\n",
    "y_loss[\"train\"] = []\n",
    "y_loss[\"test\"] = []\n",
    "y_acc[\"train\"] = []\n",
    "y_acc[\"test\"] = []\n",
    "\n",
    "loss_fn = torch.nn.CrossEntropyLoss()\n",
    "optimizer = torch.optim.SGD(model.parameters(), lr=learning_rate)\n",
    "\n",
    "for t in range(epochs):\n",
    "    print(f\"Epoch {t+1}\\n-------------------------------\")\n",
    "    train_loop(train_loader, model, loss_fn, optimizer)\n",
    "    test_loop(test_loader, model, loss_fn)\n",
    "print(\"Done!\")\n"
   ]
  },
  {
   "cell_type": "code",
   "execution_count": 83,
   "metadata": {},
   "outputs": [
    {
     "data": {
      "text/plain": [
       "[Text(0.5, 0, 'epoch'), Text(0, 0.5, 'accuracy'), Text(0.5, 1.0, 'Accuracy')]"
      ]
     },
     "execution_count": 83,
     "metadata": {},
     "output_type": "execute_result"
    },
    {
     "data": {
      "image/png": "[encoded data removed]",
      "text/plain": [
       "<Figure size 1200x400 with 2 Axes>"
      ]
     },
     "metadata": {},
     "output_type": "display_data"
    }
   ],
   "source": [
    "fig, (ax0, ax1) = plt.subplots(1, 2, figsize=(12, 4))\n",
    "# # ax0 = fig.add_subplot(121, title=\"loss\")\n",
    "# ax1 = fig.add_subplot(122, title=\"top1err\")\n",
    "# ax[0].\n",
    "ax0.plot(y_loss[\"train\"], label=\"train\")\n",
    "ax0.plot(y_loss[\"test\"], label=\"test\")\n",
    "ax0.legend()\n",
    "ax0.set(xlabel=\"epoch\", ylabel=\"loss\", title=\"Loss\")\n",
    "\n",
    "ax1.plot(y_acc[\"train\"], label=\"train\")\n",
    "ax1.plot(y_acc[\"test\"], label=\"test\")\n",
    "ax1.legend()\n",
    "ax1.set(xlabel=\"epoch\", ylabel=\"accuracy\", title=\"Accuracy\")\n"
   ]
  },
  {
   "cell_type": "code",
   "execution_count": null,
   "metadata": {},
   "outputs": [],
   "source": []
  },
  {
   "cell_type": "code",
   "execution_count": null,
   "metadata": {},
   "outputs": [],
   "source": []
  }
 ],
 "metadata": {
  "kernelspec": {
   "display_name": "Python 3.10.8 ('ece6254')",
   "language": "python",
   "name": "python3"
  },
  "language_info": {
   "codemirror_mode": {
    "name": "ipython",
    "version": 3
   },
   "file_extension": ".py",
   "mimetype": "text/x-python",
   "name": "python",
   "nbconvert_exporter": "python",
   "pygments_lexer": "ipython3",
   "version": "3.10.8"
  },
  "orig_nbformat": 4,
  "vscode": {
   "interpreter": {
    "hash": "0f868e9414393980f1c149c56e9364f2659dcbd22d5bbbdcf5e2b886a4d0a158"
   }
  }
 },
 "nbformat": 4,
 "nbformat_minor": 2
}
